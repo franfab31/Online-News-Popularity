{
  "cells": [
    {
      "cell_type": "markdown",
      "metadata": {
        "id": "TspH1wJmAkdk"
      },
      "source": [
        "### For the homeworks we are going to use the \"[Online News Popularity Data Set](https://archive.ics.uci.edu/ml/datasets/Online+News+Popularity#)\"\n",
        "\n",
        "The dataset can be used both for regression and classification tasks.\n",
        "\n",
        "#### Source:\n",
        "\n",
        "Kelwin Fernandes INESC TEC, Porto, Portugal/Universidade do Porto, Portugal.\n",
        "Pedro Vinagre ALGORITMI Research Centre, Universidade do Minho, Portugal\n",
        "Paulo Cortez ALGORITMI Research Centre, Universidade do Minho, Portugal\n",
        "Pedro Sernadela Universidade de Aveiro\n",
        "\n",
        "#### Data Set Information:\n",
        "\n",
        "* The articles were published by Mashable (www.mashable.com) and their content as the rights to reproduce it belongs to them. Hence, this dataset does not share the original content but some statistics associated with it. The original content be publicly accessed and retrieved using the provided urls.\n",
        "* Acquisition date: January 8, 2015\n",
        "* The estimated relative performance values were estimated by the authors using a Random Forest classifier and a rolling windows as assessment method. See their article for more details on how the relative performance values were set.\n",
        "\n",
        "Attribute Information:\n",
        "\n",
        "Number of Attributes: 61 (58 predictive attributes, 2 non-predictive, 1 goal field)\n",
        "\n",
        "Attribute Information:\n",
        "0. url: URL of the article (non-predictive)\n",
        "1. timedelta: Days between the article publication and the dataset acquisition (non-predictive)\n",
        "2. n_tokens_title: Number of words in the title\n",
        "3. n_tokens_content: Number of words in the content\n",
        "4. n_unique_tokens: Rate of unique words in the content\n",
        "5. n_non_stop_words: Rate of non-stop words in the content\n",
        "6. n_non_stop_unique_tokens: Rate of unique non-stop words in the content\n",
        "7. num_hrefs: Number of links\n",
        "8. num_self_hrefs: Number of links to other articles published by Mashable\n",
        "9. num_imgs: Number of images\n",
        "10. num_videos: Number of videos\n",
        "11. average_token_length: Average length of the words in the content\n",
        "12. num_keywords: Number of keywords in the metadata\n",
        "13. data_channel_is_lifestyle: Is data channel 'Lifestyle'?\n",
        "14. data_channel_is_entertainment: Is data channel 'Entertainment'?\n",
        "15. data_channel_is_bus: Is data channel 'Business'?\n",
        "16. data_channel_is_socmed: Is data channel 'Social Media'?\n",
        "17. data_channel_is_tech: Is data channel 'Tech'?\n",
        "18. data_channel_is_world: Is data channel 'World'?\n",
        "19. kw_min_min: Worst keyword (min. shares)\n",
        "20. kw_max_min: Worst keyword (max. shares)\n",
        "21. kw_avg_min: Worst keyword (avg. shares)\n",
        "22. kw_min_max: Best keyword (min. shares)\n",
        "23. kw_max_max: Best keyword (max. shares)\n",
        "24. kw_avg_max: Best keyword (avg. shares)\n",
        "25. kw_min_avg: Avg. keyword (min. shares)\n",
        "26. kw_max_avg: Avg. keyword (max. shares)\n",
        "27. kw_avg_avg: Avg. keyword (avg. shares)\n",
        "28. self_reference_min_shares: Min. shares of referenced articles in Mashable\n",
        "29. self_reference_max_shares: Max. shares of referenced articles in Mashable\n",
        "30. self_reference_avg_sharess: Avg. shares of referenced articles in Mashable\n",
        "31. weekday_is_monday: Was the article published on a Monday?\n",
        "32. weekday_is_tuesday: Was the article published on a Tuesday?\n",
        "33. weekday_is_wednesday: Was the article published on a Wednesday?\n",
        "34. weekday_is_thursday: Was the article published on a Thursday?\n",
        "35. weekday_is_friday: Was the article published on a Friday?\n",
        "36. weekday_is_saturday: Was the article published on a Saturday?\n",
        "37. weekday_is_sunday: Was the article published on a Sunday?\n",
        "38. is_weekend: Was the article published on the weekend?\n",
        "39. LDA_00: Closeness to LDA topic 0\n",
        "40. LDA_01: Closeness to LDA topic 1\n",
        "41. LDA_02: Closeness to LDA topic 2\n",
        "42. LDA_03: Closeness to LDA topic 3\n",
        "43. LDA_04: Closeness to LDA topic 4\n",
        "44. global_subjectivity: Text subjectivity\n",
        "45. global_sentiment_polarity: Text sentiment polarity\n",
        "46. global_rate_positive_words: Rate of positive words in the content\n",
        "47. global_rate_negative_words: Rate of negative words in the content\n",
        "48. rate_positive_words: Rate of positive words among non-neutral tokens\n",
        "49. rate_negative_words: Rate of negative words among non-neutral tokens\n",
        "50. avg_positive_polarity: Avg. polarity of positive words\n",
        "51. min_positive_polarity: Min. polarity of positive words\n",
        "52. max_positive_polarity: Max. polarity of positive words\n",
        "53. avg_negative_polarity: Avg. polarity of negative words\n",
        "54. min_negative_polarity: Min. polarity of negative words\n",
        "55. max_negative_polarity: Max. polarity of negative words\n",
        "56. title_subjectivity: Title subjectivity\n",
        "57. title_sentiment_polarity: Title polarity\n",
        "58. abs_title_subjectivity: Absolute subjectivity level\n",
        "59. abs_title_sentiment_polarity: Absolute polarity level\n",
        "60. shares: Number of shares (target)\n",
        "\n",
        "\n",
        "The first two columns (url and time_delta) are non-predictive and should be ignored\n",
        "\n",
        "The last column **shares** contains the value to predict.\n",
        "\n",
        "### Regression\n",
        "In the case of regression we want to predict the value of the share column.\n",
        "\n",
        "### Classification\n",
        "In the case of classification we want to predict one of two classes:\n",
        "\n",
        "* *low* -- shares < 1,400\n",
        "* *high* -- shares >= 1,400\n",
        "\n",
        "### Metrics\n",
        "\n",
        "#### Regression\n",
        "To evaluate how good we are doing on the **regression** task we will use the Root Mean Squared Error (RMSE). RMSE is given by\n",
        "\n",
        "$$\n",
        "\\sqrt{\\frac{1}{n}\\sum\\limits_{i=1}^{n}{\\Big(d_i -f_i\\Big)^2}}\n",
        "$$\n",
        "\n",
        "\n",
        "where:\n",
        "\n",
        "* $n$ is the number of test samples\n",
        "* $d_i$ is the ground truth value of the i-th sample\n",
        "* $f_i$ is the predicted value of the i-th sample\n",
        "\n",
        "\n",
        "#### Classification\n",
        "To evaluate how good we are doing on the **classification** task we will use the accuracy metrics. Accuracy is given by\n",
        "\n",
        "$$\n",
        "\\frac{TP+TN}{TP+TN+FP+FN}\n",
        "$$\n",
        "\n",
        "where:\n",
        "\n",
        "* TP is the number of *correctly* classified positive samples\n",
        "* TN is the number of *correctly* classified negative samples\n",
        "* FP is the number of *incorrectly* classified positive samples\n",
        "* FN is the number of *incorrectly* classified negative samples"
      ]
    },
    {
      "cell_type": "code",
      "execution_count": null,
      "metadata": {
        "colab": {
          "base_uri": "https://localhost:8080/"
        },
        "id": "oesd6_bYijRo",
        "outputId": "20295a7b-77ba-4a2a-acb8-ed2c61817542"
      },
      "outputs": [
        {
          "name": "stdout",
          "output_type": "stream",
          "text": [
            "--2023-05-27 10:32:22--  https://archive.ics.uci.edu/ml/machine-learning-databases/00332/OnlineNewsPopularity.zip\n",
            "Resolving archive.ics.uci.edu (archive.ics.uci.edu)... 128.195.10.252\n",
            "Connecting to archive.ics.uci.edu (archive.ics.uci.edu)|128.195.10.252|:443... connected.\n",
            "HTTP request sent, awaiting response... 200 OK\n",
            "Length: 7476401 (7.1M) [application/x-httpd-php]\n",
            "Saving to: ‘OnlineNewsPopularity.zip’\n",
            "\n",
            "OnlineNewsPopularit 100%[===================>]   7.13M  15.7MB/s    in 0.5s    \n",
            "\n",
            "2023-05-27 10:32:23 (15.7 MB/s) - ‘OnlineNewsPopularity.zip’ saved [7476401/7476401]\n",
            "\n"
          ]
        }
      ],
      "source": [
        "!wget https://archive.ics.uci.edu/ml/machine-learning-databases/00332/OnlineNewsPopularity.zip"
      ]
    },
    {
      "cell_type": "code",
      "execution_count": null,
      "metadata": {
        "colab": {
          "base_uri": "https://localhost:8080/"
        },
        "id": "gmad6QdZ_nFR",
        "outputId": "9b39d187-ef72-4fb1-e25a-d58444636365"
      },
      "outputs": [
        {
          "name": "stdout",
          "output_type": "stream",
          "text": [
            "Archive:  OnlineNewsPopularity.zip\n",
            "   creating: OnlineNewsPopularity/\n",
            "  inflating: OnlineNewsPopularity/OnlineNewsPopularity.names  \n",
            "  inflating: OnlineNewsPopularity/OnlineNewsPopularity.csv  \n"
          ]
        }
      ],
      "source": [
        "!unzip OnlineNewsPopularity.zip"
      ]
    },
    {
      "cell_type": "code",
      "execution_count": null,
      "metadata": {
        "id": "8eW4t_c6ACcm"
      },
      "outputs": [],
      "source": [
        "import pandas as pd\n",
        "import numpy as np\n",
        "from collections import Counter\n",
        "import math\n",
        "import matplotlib.pyplot as plt"
      ]
    },
    {
      "cell_type": "markdown",
      "metadata": {
        "id": "yXCX_LpFedtj"
      },
      "source": [
        "Format properly the names of the columns and remove the first two columns"
      ]
    },
    {
      "cell_type": "code",
      "execution_count": null,
      "metadata": {
        "id": "1mxntjhmAH0D"
      },
      "outputs": [],
      "source": [
        "df = pd.read_csv('OnlineNewsPopularity/OnlineNewsPopularity.csv')\n",
        "df = df.rename(columns=lambda x: x.strip())\n",
        "df = df.iloc[: , 2:]"
      ]
    },
    {
      "cell_type": "code",
      "execution_count": null,
      "metadata": {
        "colab": {
          "base_uri": "https://localhost:8080/"
        },
        "id": "qCXwyljnAMmi",
        "outputId": "4098d198-c953-4347-9f9a-263a78c77667"
      },
      "outputs": [
        {
          "data": {
            "text/plain": [
              "n_tokens_title                   float64\n",
              "n_tokens_content                 float64\n",
              "n_unique_tokens                  float64\n",
              "n_non_stop_words                 float64\n",
              "n_non_stop_unique_tokens         float64\n",
              "num_hrefs                        float64\n",
              "num_self_hrefs                   float64\n",
              "num_imgs                         float64\n",
              "num_videos                       float64\n",
              "average_token_length             float64\n",
              "num_keywords                     float64\n",
              "data_channel_is_lifestyle        float64\n",
              "data_channel_is_entertainment    float64\n",
              "data_channel_is_bus              float64\n",
              "data_channel_is_socmed           float64\n",
              "data_channel_is_tech             float64\n",
              "data_channel_is_world            float64\n",
              "kw_min_min                       float64\n",
              "kw_max_min                       float64\n",
              "kw_avg_min                       float64\n",
              "kw_min_max                       float64\n",
              "kw_max_max                       float64\n",
              "kw_avg_max                       float64\n",
              "kw_min_avg                       float64\n",
              "kw_max_avg                       float64\n",
              "kw_avg_avg                       float64\n",
              "self_reference_min_shares        float64\n",
              "self_reference_max_shares        float64\n",
              "self_reference_avg_sharess       float64\n",
              "weekday_is_monday                float64\n",
              "weekday_is_tuesday               float64\n",
              "weekday_is_wednesday             float64\n",
              "weekday_is_thursday              float64\n",
              "weekday_is_friday                float64\n",
              "weekday_is_saturday              float64\n",
              "weekday_is_sunday                float64\n",
              "is_weekend                       float64\n",
              "LDA_00                           float64\n",
              "LDA_01                           float64\n",
              "LDA_02                           float64\n",
              "LDA_03                           float64\n",
              "LDA_04                           float64\n",
              "global_subjectivity              float64\n",
              "global_sentiment_polarity        float64\n",
              "global_rate_positive_words       float64\n",
              "global_rate_negative_words       float64\n",
              "rate_positive_words              float64\n",
              "rate_negative_words              float64\n",
              "avg_positive_polarity            float64\n",
              "min_positive_polarity            float64\n",
              "max_positive_polarity            float64\n",
              "avg_negative_polarity            float64\n",
              "min_negative_polarity            float64\n",
              "max_negative_polarity            float64\n",
              "title_subjectivity               float64\n",
              "title_sentiment_polarity         float64\n",
              "abs_title_subjectivity           float64\n",
              "abs_title_sentiment_polarity     float64\n",
              "shares                             int64\n",
              "dtype: object"
            ]
          },
          "execution_count": 5,
          "metadata": {},
          "output_type": "execute_result"
        }
      ],
      "source": [
        "df.dtypes"
      ]
    },
    {
      "cell_type": "markdown",
      "metadata": {
        "id": "mu_rxzq0f2gV"
      },
      "source": [
        "## Let's plot some of the columns"
      ]
    },
    {
      "cell_type": "code",
      "execution_count": null,
      "metadata": {
        "colab": {
          "base_uri": "https://localhost:8080/",
          "height": 1000
        },
        "id": "VbFlnYRjAXlk",
        "outputId": "5a6299c4-40d5-455d-80a3-fa7b60f75472"
      },
      "outputs": [
        {
          "data": {
            "image/png": "[encoded data removed]",
            "text/plain": [
              "<Figure size 2000x2000 with 6 Axes>"
            ]
          },
          "metadata": {},
          "output_type": "display_data"
        }
      ],
      "source": [
        "import matplotlib.pyplot as plt\n",
        "import seaborn as sns\n",
        "\n",
        "columns_to_plot = [\n",
        "    'num_videos',\n",
        "    'num_imgs',\n",
        "    'num_keywords',\n",
        "    'data_channel_is_world',\n",
        "    'rate_negative_words',\n",
        "    'self_reference_avg_sharess',\n",
        "]\n",
        "\n",
        "fig, ax = plt.subplots(len(columns_to_plot), 1, figsize=(20, 20))\n",
        "\n",
        "for i, column in enumerate(columns_to_plot, 0):\n",
        "  ax[i].hist(df[column])\n",
        "  ax[i].title.set_text(column)\n",
        "\n",
        "plt.show()"
      ]
    },
    {
      "cell_type": "markdown",
      "metadata": {
        "id": "UreUUCYinWBT"
      },
      "source": [
        "# Utili"
      ]
    },
    {
      "cell_type": "markdown",
      "metadata": {
        "id": "Gsoqy2omvIJA"
      },
      "source": [
        "Importo delle librerie utili per il funzionamento dei vari codici"
      ]
    },
    {
      "cell_type": "code",
      "execution_count": null,
      "metadata": {
        "id": "6ar08x0cnaFE"
      },
      "outputs": [],
      "source": [
        "import pandas as pd\n",
        "import numpy as np\n",
        "from collections import Counter\n",
        "import math\n",
        "import matplotlib.pyplot as plt"
      ]
    },
    {
      "cell_type": "code",
      "execution_count": null,
      "metadata": {
        "id": "VVKnGpi7nefA"
      },
      "outputs": [],
      "source": [
        "df = pd.read_csv('OnlineNewsPopularity/OnlineNewsPopularity.csv')\n",
        "df = df.rename(columns=lambda x: x.strip())\n",
        "df = df.iloc[: , 2:]"
      ]
    },
    {
      "cell_type": "markdown",
      "metadata": {
        "id": "k3QJSZ2UC4DK"
      },
      "source": [
        "l'ultima colonna contiene gli shares che sono i valori da predirre. Separiamo le feature dal target e per comodità inserisco una colonna che classifica le shares come true o false in base se sono >=1400 o no, questa colonna sarà utile per i problemi di classificazione mentre userò la colonna originale per quelli di regressione"
      ]
    },
    {
      "cell_type": "code",
      "execution_count": null,
      "metadata": {
        "colab": {
          "base_uri": "https://localhost:8080/"
        },
        "id": "nkp-9QdmDCI1",
        "outputId": "2caf14c7-c488-4342-8aa8-d7cada2df287"
      },
      "outputs": [
        {
          "data": {
            "text/plain": [
              "0        False\n",
              "1        False\n",
              "2         True\n",
              "3        False\n",
              "4        False\n",
              "         ...  \n",
              "39639     True\n",
              "39640     True\n",
              "39641     True\n",
              "39642    False\n",
              "39643    False\n",
              "Name: higth, Length: 39644, dtype: bool"
            ]
          },
          "execution_count": 9,
          "metadata": {},
          "output_type": "execute_result"
        }
      ],
      "source": [
        "df['higth'] = np.where(df['shares']>=1400, True, False)\n",
        "df.higth"
      ]
    },
    {
      "cell_type": "markdown",
      "metadata": {
        "id": "up83cHz8Pj4T"
      },
      "source": [
        "accuracy per verificare l'accuratezza nel caso di classificazione\n",
        "\n",
        "\n"
      ]
    },
    {
      "cell_type": "code",
      "execution_count": null,
      "metadata": {
        "id": "kk8xWysHPden"
      },
      "outputs": [],
      "source": [
        "def accuracy(y_true, y_pred):\n",
        "        accuracy = np.sum(y_true == y_pred) / len(y_true)\n",
        "        return accuracy"
      ]
    },
    {
      "cell_type": "markdown",
      "metadata": {
        "id": "WcVUtUstCiNa"
      },
      "source": [
        "Root Mean Squared Error (RMSE) per valutare la regressione"
      ]
    },
    {
      "cell_type": "code",
      "execution_count": null,
      "metadata": {
        "id": "8BK0vA3ECg_K"
      },
      "outputs": [],
      "source": [
        "def rmse(y, y_h):\n",
        "        error = 0\n",
        "        for i in range(len(y)):\n",
        "            diff=y[i]-y_h[i]\n",
        "            error += (diff) ** 2\n",
        "        return math.sqrt(error / len(y))"
      ]
    },
    {
      "cell_type": "markdown",
      "metadata": {
        "id": "T0U_QCzFhcNJ"
      },
      "source": [
        "# Decision tree"
      ]
    },
    {
      "cell_type": "markdown",
      "metadata": {
        "id": "o0KboLqUvNW_"
      },
      "source": [
        "Preparo i dati per usarli nel decision tree.\n",
        "Nelle x metto le feature usando iloc[:,  :-2].values in questo modo escludo le ultime due colonne e considero solo i valori delle colonne prese da x.\n",
        "La y prende solo l'ultima colonna iloc[:, -1] ovvero la colonna di True e False.\n",
        "Poi usa sklearn per creare il train e il test in modo casuale"
      ]
    },
    {
      "cell_type": "code",
      "execution_count": null,
      "metadata": {
        "id": "zXuHQxrchjoD"
      },
      "outputs": [],
      "source": [
        "x = df.iloc[:, :-2].values\n",
        "\n",
        "y = df.iloc[:, -1].values\n",
        "\n",
        "from sklearn.model_selection import train_test_split\n",
        "\n",
        "x_train, x_test, y_train, y_test = train_test_split(\n",
        "    x, y, test_size=0.2, random_state=1234\n",
        ")\n"
      ]
    },
    {
      "cell_type": "markdown",
      "metadata": {
        "id": "RLnPMJJfwP49"
      },
      "source": [
        "Realizzo la classe Nodo per i miei alberi di decisione e nel caso di nodi leaf ovvero i nodi alla fine dell'albero ho un attributo di tipo value. Infatti nel caso il valore di value!=None allora è una foglia"
      ]
    },
    {
      "cell_type": "code",
      "execution_count": null,
      "metadata": {
        "id": "-h3Mc3lvhnyI"
      },
      "outputs": [],
      "source": [
        "class Node:\n",
        "    def __init__(self, feature=None, threshold=None, left=None, right=None,*,value=None):\n",
        "        self.feature = feature\n",
        "        self.threshold = threshold\n",
        "        self.left = left\n",
        "        self.right = right\n",
        "        self.value = value\n",
        "\n",
        "    def is_leaf_node(self):\n",
        "        return self.value is not None"
      ]
    },
    {
      "cell_type": "markdown",
      "metadata": {
        "id": "6YFTC-MxxPDl"
      },
      "source": [
        "realizzo il vero e proprio albero di decisione.\n",
        "* __init__(): è il costruttore, al suo interno imposto varie variabili tra cui le più importanti sono:\n",
        "    1. max_depth ovvero la profondità massima dell'albero da anlizzare.\n",
        "    2. min_samples_split il numero minimo di samples  necessari per dividere un nodo\n",
        "    3. features non usa tutte le features a disposizione ma solo una selezione\n",
        "\n",
        "*   build(x, y)la funzione costruisce in modo ricorsivo un albero decisionale in caso vengano rispettati i criteri di arresto si ferma la costruzione.\n",
        "Usa la funzione bestsplit per ricevere la miglior combinazione (split, threshold).\n",
        "Crea i nodi figli usando lo split() e poi costruisce l'albero ricorsivamente usando la funzione bulid().\n",
        "Alla fine restituisce il nodo\n",
        "*   fit(x, y) chiama la build() e memorizza l'albero costruito nel costruttore\n",
        "*   mc_label(self, y) restituisce il valore del target più presente\n",
        "*   bestsplit(self, x, y, feature)  calcola tutte le possibili combinazione  (rsplit, rthreshold) e restituisce la migliore usando information gain. Nel nostro caso selezioniamo le feature prendendole randomicamente dalle feature (n_f) disponibili per un numero pari a self.features\n",
        "*  infgain(self, y, xc, threshold) calcola l'information gain di uno split.\n",
        "Per prima cosa calcolo l'entropia del padre, usando la funzione split creo i due figli (destra e sinistra) se lo split è avvenuto con successo allora calcolo la media ponderata dell'entropia dei figli e la sottrae a quella del padre\n",
        "* entropy(self, y) calcola l'entropia\n",
        "*  split(self, x_column, thresh) divide gli elementi a seconda che siano > o <= del threshold (t). creando il ramo di destra e sinistra\n",
        "* predict(self, x) per ogni  xx in x applica la funzione ttree(), e restituisce un array di tali risultati\n",
        "* ttree(self, x, node) attraversa l'albero ricorsivamente per classificare una singola istanza. Controllo se è un nodo foglia in tal caso restituisco node.value.\n",
        "\n",
        "\n",
        "\n",
        "\n",
        "\n",
        "\n",
        "\n",
        "\n",
        "\n",
        "\n",
        "\n",
        "\n"
      ]
    },
    {
      "cell_type": "code",
      "execution_count": null,
      "metadata": {
        "id": "VVGXUyedrBvu"
      },
      "outputs": [],
      "source": [
        "class DecisionTree:\n",
        "    def __init__(self, min_samples_split=2, max_depth=100, features=None):\n",
        "        self.min_samples_split=min_samples_split\n",
        "        self.max_depth=max_depth\n",
        "        self.features=features\n",
        "        self.root=None\n",
        "\n",
        "    def infgain(self, y, xc, threshold):\n",
        "        parent_entropy = self.entropy(y)\n",
        "\n",
        "        l, r = self.split(xc, threshold)\n",
        "        if len(l) == 0 or len(r) == 0:\n",
        "            return 0\n",
        "\n",
        "        n_l=len(l)\n",
        "        n_r=len(r)\n",
        "        e_l=self.entropy(y[l])\n",
        "        e_r=self.entropy(y[r])\n",
        "        child_l=(n_l/len(y)) * e_l\n",
        "        child_r=(n_r/len(y)) * e_r\n",
        "        child_entropy =child_l+child_r\n",
        "\n",
        "        ig = parent_entropy - child_entropy\n",
        "        return ig\n",
        "\n",
        "    def entropy(self, y):\n",
        "        ricorrenze= np.bincount(y)\n",
        "        pp=ricorrenze / len(y)\n",
        "        return -np.sum([p * np.log(p) for p in pp if p>0])\n",
        "\n",
        "    def fit(self, x, y):\n",
        "        self.features = x.shape[1] if not self.features else min(x.shape[1],self.features)\n",
        "        self.root = self.build(x, y)\n",
        "\n",
        "    def mc_label(self, y):\n",
        "        counter = Counter(y)\n",
        "        value = counter.most_common(1)[0][0]\n",
        "        return value\n",
        "\n",
        "    def build(self, x, y, depth=0):\n",
        "        n_samples, n_f = x.shape\n",
        "        n_labels = len(np.unique(y))\n",
        "\n",
        "        if (depth>=self.max_depth or n_labels==1 or n_samples<self.min_samples_split):\n",
        "            leaf_value =  self.mc_label(y)\n",
        "            return Node(value=leaf_value)\n",
        "\n",
        "        feature = np.random.choice(n_f, self.features, replace=False)\n",
        "\n",
        "        bfeature, bthresh = self.bestsplit(x, y, feature)\n",
        "\n",
        "        lefti, righti= self.split(x[:, bfeature], bthresh)\n",
        "        left = self.build(x[lefti, :], y[lefti], depth+1)\n",
        "        right = self.build(x[righti, :], y[righti], depth+1)\n",
        "        return Node(bfeature, bthresh, left, right)\n",
        "\n",
        "\n",
        "    def split(self, x_column, t):\n",
        "        left= np.argwhere(x_column <= t).flatten()\n",
        "        right= np.argwhere(x_column > t).flatten()\n",
        "        return left, right\n",
        "\n",
        "    def bestsplit(self, x, y, feature):\n",
        "        best_gain = -1\n",
        "        rsplit, rthreshold = None, None\n",
        "\n",
        "        for f in feature:\n",
        "            xc = x[:, f]\n",
        "            thresholds = np.unique(xc)\n",
        "\n",
        "            for t in thresholds:\n",
        "\n",
        "                gain = self.infgain(y, xc, t)\n",
        "\n",
        "                if gain > best_gain:\n",
        "                    best_gain = gain\n",
        "                    rsplit = f\n",
        "                    rthreshold = t\n",
        "\n",
        "        return rsplit, rthreshold\n",
        "\n",
        "\n",
        "\n",
        "    def predict(self, X):\n",
        "        return np.array([self.ttree(x, self.root) for x in X])\n",
        "\n",
        "    def ttree(self, x, node):\n",
        "        if node.is_leaf_node():\n",
        "            return node.value\n",
        "\n",
        "        if x[node.feature] <= node.threshold:\n",
        "            return self.ttree(x, node.left)\n",
        "        return self.ttree(x, node.right)"
      ]
    },
    {
      "cell_type": "code",
      "execution_count": null,
      "metadata": {
        "id": "npr8yQBdpUiK"
      },
      "outputs": [],
      "source": [
        "clf = DecisionTree(max_depth=10)\n",
        "clf.fit(x_train, y_train)\n",
        "predictions = clf.predict(x_test)\n",
        "\n"
      ]
    },
    {
      "cell_type": "markdown",
      "metadata": {
        "id": "RI7YZLimbQjo"
      },
      "source": [
        "valuto l'accuracy del mio decision tree"
      ]
    },
    {
      "cell_type": "code",
      "execution_count": null,
      "metadata": {
        "id": "VrrGzXQMPo78"
      },
      "outputs": [],
      "source": [
        "print(\"Accuracy:\", accuracy(y_test, predictions)*100)"
      ]
    },
    {
      "cell_type": "markdown",
      "metadata": {
        "id": "eaWutNN4nJ_K"
      },
      "source": [
        "confronto con sklearn"
      ]
    },
    {
      "cell_type": "code",
      "execution_count": null,
      "metadata": {
        "id": "yfPXh8zNnIY7"
      },
      "outputs": [],
      "source": [
        "from sklearn.tree import DecisionTreeClassifier\n",
        "\n",
        "model = DecisionTreeClassifier(\n",
        "    criterion=\"entropy\"\n",
        ")\n",
        "\n",
        "model = model.fit(x_train,y_train)\n",
        "\n",
        "y_pred = model.predict(x_test)"
      ]
    },
    {
      "cell_type": "code",
      "execution_count": null,
      "metadata": {
        "id": "E4Q6QyDonL2T"
      },
      "outputs": [],
      "source": [
        "from sklearn import metrics\n",
        "\n",
        "print(\"Accuracy:\",metrics.accuracy_score(y_test, y_pred)*100)\n"
      ]
    },
    {
      "cell_type": "markdown",
      "metadata": {
        "id": "nD-c_U5U1J7o"
      },
      "source": [
        "# Linear Regression"
      ]
    },
    {
      "cell_type": "markdown",
      "metadata": {
        "id": "cFnrBwG21OQ5"
      },
      "source": [
        " **senza regolarizzazione**"
      ]
    },
    {
      "cell_type": "markdown",
      "metadata": {
        "id": "wziS09eLCXMg"
      },
      "source": [
        "realizzo il mylinearRegression senza regolarizzazione usando gradient descent.\n",
        "\n",
        "\n",
        "* __init__(): contine il tasso di apprendimento, il numero di iterazioni oltre che ai pesi (weights) e al bias (w0). Si potrebbe inoltre inserire un elenco che memorizza il Loss, utlie se si volesse vedere la curva di apprendimento.\n",
        "*   mse(): uso l'errore quadratico medio come funzione di costo da minimizzare e rappresenta l'errore. Con y i valori veri che mi aspetto e y_h i valori che ho trovato (predetto).\n",
        "*  fit(): funzione che cerca di ottimizzare i valori dei pesi e del bias usando gradiant descnt, per prima cosa imposto il peso e il bias a 0.\n",
        "Poi comincio ad usare il gradient descent e calcolo le derivate e aggiorno il peso e il bias\n",
        "*   predict() funzione che predice usando quazioni lineari\n",
        "\n",
        "Nel caso decidessi di memorizzare Loss=[ ] sarebbe una lista che memorizza i valori di loss durante la fase di addestramento e può essere utilizzata per analizzare il comportamento del modello\n"
      ]
    },
    {
      "cell_type": "code",
      "execution_count": null,
      "metadata": {
        "id": "fb6pwtu8ElNy"
      },
      "outputs": [],
      "source": [
        "class myLinearRegression:\n",
        "    def __init__(self, learning_rate=0.01, iterations=100):\n",
        "        self.learning_rate = learning_rate\n",
        "        self.iterations=iterations\n",
        "        self.w=None\n",
        "        self.b=None\n",
        "\n",
        "    @staticmethod\n",
        "    def mse(y, y_h):\n",
        "        error = 0\n",
        "        for i in range(len(y)):\n",
        "            diff=y[i]-y_h[i]\n",
        "            error += (diff) ** 2\n",
        "        return error / len(y)\n",
        "\n",
        "    def fit(self, x, y):\n",
        "\n",
        "        self.w= np.zeros(x.shape[1])\n",
        "        self.b= 0\n",
        "\n",
        "        for i in range(self.iterations):\n",
        "\n",
        "            y_h= np.dot(x, self.w) + self.b\n",
        "\n",
        "\n",
        "            partial_w = (1 / x.shape[0]) * (2 * np.dot(x.T, (y_h - y)))\n",
        "            partial_d = (1 / x.shape[0]) * (2 * np.sum(y_h - y))\n",
        "\n",
        "            self.w-= self.learning_rate * partial_w\n",
        "            self.b-= self.learning_rate * partial_d\n",
        "\n",
        "\n",
        "    def predict(self, x):\n",
        "        return np.dot(x, self.w) + self.b"
      ]
    },
    {
      "cell_type": "markdown",
      "metadata": {
        "id": "H1u2zg8GE4Zy"
      },
      "source": [
        "Uso strain_test_split come nel caso degli alberi di decisione ma ora la y contiene la penultima colonna e non la colonna dei True e False\n",
        "\n",
        "**uso quasi sempre la normalizzazione sui dati poichè non facendolo avevo spesso errori dovuti a overflow**"
      ]
    },
    {
      "cell_type": "code",
      "execution_count": null,
      "metadata": {
        "id": "ZYUqt4Go1Vod"
      },
      "outputs": [],
      "source": [
        "x = df.iloc[:, :-2].values\n",
        "y = df.iloc[:, -2].values\n",
        "\n",
        "import numpy as np\n",
        "\n",
        "mean = np.mean(x, axis=0)\n",
        "std = np.std(x, axis=0)\n",
        "\n",
        "x1 = (x - mean) / std\n",
        "\n",
        "\n",
        "\n",
        "from sklearn.model_selection import train_test_split\n",
        "\n",
        "x_train, x_test, y_train, y_test = train_test_split(x1, y, test_size=0.2, random_state=1234)\n",
        "\n"
      ]
    },
    {
      "cell_type": "code",
      "execution_count": null,
      "metadata": {
        "id": "RdD7TzCp5eZ8"
      },
      "outputs": [],
      "source": [
        "model = myLinearRegression()\n",
        "model.fit(x_train, y_train)\n",
        "preds = model.predict(x_test)"
      ]
    },
    {
      "cell_type": "markdown",
      "metadata": {
        "id": "-HvyNF6NMXO3"
      },
      "source": [
        "calcolo RMSE"
      ]
    },
    {
      "cell_type": "code",
      "execution_count": null,
      "metadata": {
        "id": "Ks9PaLA8CNlb"
      },
      "outputs": [],
      "source": [
        "rmse(y_test, preds)"
      ]
    },
    {
      "cell_type": "markdown",
      "metadata": {
        "id": "Da2hP4SOMobh"
      },
      "source": [
        "confronto con LinearRegression di sklearn"
      ]
    },
    {
      "cell_type": "code",
      "execution_count": null,
      "metadata": {
        "id": "jAHuYOUtx4Fn"
      },
      "outputs": [],
      "source": [
        "from sklearn.linear_model import LinearRegression\n",
        "from sklearn.metrics import mean_squared_error\n",
        "\n",
        "lr_model = LinearRegression()\n",
        "lr_model.fit(x_train, y_train)\n",
        "lr_preds = lr_model.predict(x_test)\n",
        "print(math.sqrt(mean_squared_error(y_test, lr_preds)))"
      ]
    },
    {
      "cell_type": "markdown",
      "metadata": {
        "id": "zW5CHl69uNqX"
      },
      "source": [
        "**Con regolarizzazione L1, L2 e Elastic Net**"
      ]
    },
    {
      "cell_type": "markdown",
      "metadata": {
        "id": "CMs9bp66A_QT"
      },
      "source": [
        "In questo codice uso la regolarizzazione utile per evitare overfitting.\n",
        "Il codice è molto simile a quello precendete senza regolarizzazione.\n",
        "La mia funzione di costo da minimizzare non sarà solo data da EmpLoss ovvero mse ma anche da una termine che mi misura la complessità del mio modello, la somma tra questi due valori mi darà il costo.\n",
        "\n",
        "$$ Cost(h)= EmpLoss(h) + λComplexity(h) $$\n",
        "\n",
        "Uso una regolarizzazione L1, L2 e Elastic Net.\n",
        "Con L1 la complessità sarà la somma in modulo dei pesi:\n",
        "\n",
        "$$\n",
        "\\sum\\limits_{i=1}^{n}{\\Big|w_i\\Big|}\n",
        "$$\n",
        "\n",
        "con L2 sarà la somma dei quadrati dei pesi:\n",
        "\n",
        "$$\n",
        "\\sum\\limits_{i=1}^{n}{\\Big|w_i\\Big|^2}\n",
        "$$\n",
        "\n",
        "con Elastic Net è la combinazione di L1 e L2\n",
        "\n",
        "$$ λ_1L_1(w) + λ_2L_2(w) $$\n"
      ]
    },
    {
      "cell_type": "code",
      "execution_count": null,
      "metadata": {
        "id": "AH7mdUjdIhvu"
      },
      "outputs": [],
      "source": [
        "class myRLinearRegression:\n",
        "    def __init__(self, learning_rate=0.01, iterations=1000, regular=\"None\",lamb=1):\n",
        "        self.learning_rate = learning_rate\n",
        "        self.iterations=iterations\n",
        "        self.w=None\n",
        "        self.b=None\n",
        "        self.loss = []\n",
        "        self.lamb=lamb\n",
        "        self.regular=regular\n",
        "\n",
        "    @staticmethod\n",
        "    def costo(y, y_h, self):\n",
        "        error = 0\n",
        "        for i in range(len(y)):\n",
        "            diff=y[i]-y_h[i]\n",
        "            error += (diff) ** 2\n",
        "        mse=error/len(y)\n",
        "        if(self.regular==\"L1\" or self.regular==\"None\" ):\n",
        "          compl=np.sum(np.abs(self.w))*self.lamb\n",
        "        if(self.regular==\"L2\"):\n",
        "          compl=np.sum(self.w**2)*self.lamb\n",
        "        if(self.regular==\"EN\"):\n",
        "          a=self.lamb/(self.lamb+self.lamb)\n",
        "          compl=np.sum(np.abs(self.w))*a\n",
        "          compl+=np.sum(self.w**2)*(1-a)\n",
        "        return mse+compl\n",
        "\n",
        "    def fit(self, x, y):\n",
        "\n",
        "        self.w= np.zeros(x.shape[1])\n",
        "        self.b= 0\n",
        "\n",
        "        for i in range(self.iterations):\n",
        "\n",
        "            y_h= np.dot(x, self.w) + self.b\n",
        "            loss = self.costo(y, y_h, self)\n",
        "            self.loss.append(loss)\n",
        "\n",
        "            if self.regular == \"L1\" or self.regular is None:\n",
        "                reg = np.sign(self.w) * self.lamb\n",
        "            elif self.regular == \"L2\":\n",
        "                reg = 2 * self.w * self.lamb\n",
        "            elif self.regular == \"EN\":\n",
        "                a = self.lamb / (self.lamb + self.lamb)\n",
        "                reg = a * np.sign(self.w) + (1 - a) * 2 * self.w\n",
        "\n",
        "            partial_w = ((1 / x.shape[0]) * (2 * np.dot(x.T, (y_h - y)))) + reg\n",
        "            partial_d = (1 / x.shape[0]) * (2 * np.sum(y_h - y))\n",
        "\n",
        "            self.w -= self.learning_rate * partial_w\n",
        "            self.b -= self.learning_rate * partial_d\n",
        "\n",
        "    def predict(self, x):\n",
        "        return np.dot(x, self.w) + self.b"
      ]
    },
    {
      "cell_type": "code",
      "execution_count": null,
      "metadata": {
        "colab": {
          "background_save": true
        },
        "id": "UgGtFuujDF-4"
      },
      "outputs": [],
      "source": [
        "model2=myRLinearRegression(regular=\"L2\",lamb=0.001)\n",
        "model2.fit(x_train, y_train)\n",
        "preds2 = model2.predict(x_test)\n",
        "model1=myRLinearRegression(regular=\"L1\",lamb=0.00000001)\n",
        "model1.fit(x_train, y_train)\n",
        "preds1 = model1.predict(x_test)\n",
        "model3=myRLinearRegression(regular=\"EN\",lamb=0.01)\n",
        "model3.fit(x_train, y_train)\n",
        "preds3 = model3.predict(x_test)\n"
      ]
    },
    {
      "cell_type": "code",
      "execution_count": null,
      "metadata": {
        "colab": {
          "background_save": true
        },
        "id": "JCX0zkXgltnO"
      },
      "outputs": [],
      "source": [
        "def rmse(y, y_h):\n",
        "        error = 0\n",
        "        for i in range(len(y)):\n",
        "            diff=y[i]-y_h[i]\n",
        "            error += (diff) ** 2\n",
        "        return math.sqrt(error / len(y))"
      ]
    },
    {
      "cell_type": "code",
      "execution_count": null,
      "metadata": {
        "colab": {
          "background_save": true
        },
        "id": "2Y9b_IEGMv1c",
        "outputId": "2222897a-e4c2-4aa7-b2f3-f71664037e62"
      },
      "outputs": [
        {
          "name": "stdout",
          "output_type": "stream",
          "text": [
            "rmse di L1: 7644.357472278812\n",
            "rmse di L2: 7644.373647415458\n",
            "rmse di EN: 7662.048284406315\n",
            "rmse senza regolarizzazione: 7664.190902971467\n"
          ]
        }
      ],
      "source": [
        "print(\"rmse di L1:\", rmse(y_test, preds1))\n",
        "\n",
        "print(\"rmse di L2:\", rmse(y_test, preds2))\n",
        "\n",
        "print(\"rmse di EN:\", rmse(y_test, preds3))\n",
        "\n",
        "print(\"rmse senza regolarizzazione:\",rmse(y_test, preds))\n"
      ]
    },
    {
      "cell_type": "markdown",
      "metadata": {
        "id": "EdtSOhK5Xcix"
      },
      "source": [
        "Uso sklearn per fare un paragone"
      ]
    },
    {
      "cell_type": "code",
      "execution_count": null,
      "metadata": {
        "colab": {
          "background_save": true
        },
        "id": "8BYLJbrxXgbr",
        "outputId": "948c2bf6-6f37-4cb7-fe23-d8f70992a927"
      },
      "outputs": [
        {
          "name": "stderr",
          "output_type": "stream",
          "text": [
            "/usr/local/lib/python3.10/dist-packages/sklearn/linear_model/_coordinate_descent.py:631: ConvergenceWarning: Objective did not converge. You might want to increase the number of iterations, check the scale of the features or consider increasing regularisation. Duality gap: 2.381e+12, tolerance: 4.877e+08\n",
            "  model = cd_fast.enet_coordinate_descent(\n"
          ]
        }
      ],
      "source": [
        "from sklearn.linear_model import Lasso\n",
        "import numpy as np\n",
        "\n",
        "lasso_reg = Lasso(alpha=0.001)\n",
        "lasso_reg.fit(x_train, y_train)\n",
        "y_pred1 = lasso_reg.predict(x_test)\n"
      ]
    },
    {
      "cell_type": "code",
      "execution_count": null,
      "metadata": {
        "colab": {
          "background_save": true
        },
        "id": "pyg9YdGgX7iN"
      },
      "outputs": [],
      "source": [
        "from sklearn.linear_model import Ridge\n",
        "\n",
        "ridge_reg = Ridge(alpha=0.001)\n",
        "ridge_reg.fit(x_train, y_train)\n",
        "y_pred2 = ridge_reg.predict(x_test)\n"
      ]
    },
    {
      "cell_type": "code",
      "execution_count": null,
      "metadata": {
        "colab": {
          "background_save": true
        },
        "id": "2TOHi_oKYKf8",
        "outputId": "6597874b-c370-4076-8cb0-a48871e0d899"
      },
      "outputs": [
        {
          "name": "stderr",
          "output_type": "stream",
          "text": [
            "/usr/local/lib/python3.10/dist-packages/sklearn/linear_model/_coordinate_descent.py:631: ConvergenceWarning: Objective did not converge. You might want to increase the number of iterations, check the scale of the features or consider increasing regularisation. Duality gap: 2.328e+12, tolerance: 4.877e+08\n",
            "  model = cd_fast.enet_coordinate_descent(\n"
          ]
        }
      ],
      "source": [
        "from sklearn.linear_model import ElasticNet\n",
        "elastic_net = ElasticNet(alpha=0.01, l1_ratio=1)\n",
        "elastic_net.fit(x_train, y_train)\n",
        "y_pred3 = elastic_net.predict(x_test)"
      ]
    },
    {
      "cell_type": "code",
      "execution_count": null,
      "metadata": {
        "colab": {
          "background_save": true
        },
        "id": "nBBYdqcuYZfG",
        "outputId": "781750eb-2207-4bb4-d7c8-7203df59f4c0"
      },
      "outputs": [
        {
          "name": "stdout",
          "output_type": "stream",
          "text": [
            "rmse di L1 (sklearn): 7644.7966167862905\n",
            "rmse di L2 (sklearn): 7643.521846630049\n",
            "rmse di EN (sklearn): 7644.799860437362\n",
            "rmse senza regolarizzazione (sklearn) : 7643.5016967501315\n"
          ]
        }
      ],
      "source": [
        "print(\"rmse di L1 (sklearn):\", rmse(y_test, y_pred1))\n",
        "\n",
        "print(\"rmse di L2 (sklearn):\", rmse(y_test, y_pred2))\n",
        "\n",
        "print(\"rmse di EN (sklearn):\", rmse(y_test, y_pred3))\n",
        "\n",
        "print(\"rmse senza regolarizzazione (sklearn) :\",rmse(y_test, lr_preds))"
      ]
    },
    {
      "cell_type": "markdown",
      "metadata": {
        "id": "CuRF1fApmLKN"
      },
      "source": [
        "# Linear Classification as Regression"
      ]
    },
    {
      "cell_type": "markdown",
      "metadata": {
        "id": "AcfJBgJRK9q6"
      },
      "source": [
        "l'ultima colonna continete shares che è il valore da predirre. Separiamo le feature dal target e per comodità uso per le y la colonna che ho aggiunto che ha valori True e False"
      ]
    },
    {
      "cell_type": "code",
      "execution_count": null,
      "metadata": {
        "colab": {
          "background_save": true
        },
        "id": "RecsOUuaKcNP"
      },
      "outputs": [],
      "source": [
        "df['higth'] = np.where(df['shares']>=1400, True, False)\n",
        "df.higth\n",
        "\n",
        "x = df.iloc[:, :-2].values\n",
        "y = df.iloc[:, -1].values\n",
        "\n",
        "import numpy as np\n",
        "\n",
        "mean = np.mean(x, axis=0)\n",
        "std = np.std(x, axis=0)\n",
        "\n",
        "x1 = (x - mean) / std\n",
        "\n",
        "\n",
        "from sklearn.model_selection import train_test_split\n",
        "\n",
        "x_train, x_test, y_train, y_test = train_test_split(\n",
        "    x1, y, test_size=0.2, random_state=1234\n",
        ")\n"
      ]
    },
    {
      "cell_type": "markdown",
      "metadata": {
        "id": "8s2oZkrlzgOu"
      },
      "source": [
        "Nel caso di classificazione usiamo la Perceptron che utilizza la classificazione binaria. L'algoritmo si addestra iterativamente con i dati di addestramento e aggiornare i pesi e il bias.\n",
        "\n",
        "\n",
        "* __init__(): inizializza l'oggetto impostando w (peso) e b (bias) a None e i parametri learning_rate e iterazioni\n",
        "* fit(): addestra il Perceptron sui dati x. Con x.shape salvo il numero di samples e di features.\n",
        "Inizializzo w e b a 0.\n",
        "yy è una \"copia\" di y in un formato binario usando np.where (se necessario).\n",
        "Poi attraverso i cicli va ad aggiornare i pesi e il bias e usando la funzione di Threshold vista a lezione in cui h(x)=1 se >=0 altrimenti è 0.\n",
        "Da questa  aggiorno:\n",
        "$$w=w+learning_rate*(yy[id]-h(x))*xi$$ a cui ho aggiunto il bias per averre un accuracy migliore.\n",
        "* predict(): utilizza il Perceptron addestrato in precedenza con la funzione fit() per classificare nuovi esempi x.\n",
        "* funzione() è la funzione a gradino che restituisce 1 se l'input è >=0 altrimenti restituisce 0\n",
        "\n"
      ]
    },
    {
      "cell_type": "code",
      "execution_count": null,
      "metadata": {
        "colab": {
          "background_save": true
        },
        "id": "WCAszeI9Spot"
      },
      "outputs": [],
      "source": [
        "class Perceptron:\n",
        "\n",
        "    def __init__(self, learning_rate=0.01, iterazioni=1000):\n",
        "        self.learning_rate = learning_rate\n",
        "        self.iterazioni=iterazioni\n",
        "        self.w=None\n",
        "        self.b=None\n",
        "\n",
        "\n",
        "    def fit(self, x, y):\n",
        "        n_samples, n_features = x.shape\n",
        "        self.w=np.zeros(n_features)\n",
        "        self.b=0\n",
        "\n",
        "        yy= np.where(y > 0 , 1, 0)\n",
        "\n",
        "        for _ in range(self.iterazioni):\n",
        "            for id, xi in enumerate(x):\n",
        "                lout = np.dot(xi, self.w) + self.b\n",
        "                y_p=self.funzione(lout)\n",
        "\n",
        "                u=self.learning_rate * (yy[id] - y_p)\n",
        "                self.w+= u*xi\n",
        "                self.b+= u\n",
        "\n",
        "\n",
        "    def predict(self, x):\n",
        "        lout = np.dot(x, self.w) + self.b\n",
        "        y_p= self.funzione(lout)\n",
        "        print(y_p)\n",
        "        return y_p\n",
        "\n",
        "    def funzione(self, x):\n",
        "        return np.where(x >= 0, 1, 0)"
      ]
    },
    {
      "cell_type": "code",
      "execution_count": null,
      "metadata": {
        "colab": {
          "background_save": true
        },
        "id": "7zGNkoRDwGLX",
        "outputId": "8b3e05d8-5f3a-4a28-9586-5aa2078f46b3"
      },
      "outputs": [
        {
          "name": "stdout",
          "output_type": "stream",
          "text": [
            "[0 1 1 ... 1 0 1]\n"
          ]
        }
      ],
      "source": [
        "p = Perceptron(learning_rate=0.01, iterazioni=1000)\n",
        "p.fit(x_train, y_train)\n",
        "predictions = p.predict(x_test)"
      ]
    },
    {
      "cell_type": "markdown",
      "metadata": {
        "id": "7LRUQRmiYEJQ"
      },
      "source": [
        "definisco accuracy e stampo il risultato"
      ]
    },
    {
      "cell_type": "code",
      "execution_count": null,
      "metadata": {
        "colab": {
          "background_save": true
        },
        "id": "cLAx94uxQOW3"
      },
      "outputs": [],
      "source": [
        "def accuracy(y_true, y_pred):\n",
        "        accuracy = np.sum(y_true == y_pred) / len(y_true)\n",
        "        return accuracy"
      ]
    },
    {
      "cell_type": "code",
      "execution_count": null,
      "metadata": {
        "colab": {
          "background_save": true
        },
        "id": "Nto6OAxHQQF6",
        "outputId": "c64b7342-7edf-4c8e-cd93-f97c847150d5"
      },
      "outputs": [
        {
          "name": "stdout",
          "output_type": "stream",
          "text": [
            "55.55555555555556\n"
          ]
        }
      ],
      "source": [
        "print(accuracy(y_test, predictions)*100)"
      ]
    },
    {
      "cell_type": "markdown",
      "metadata": {
        "id": "boQst5zOZJ0O"
      },
      "source": [
        "Uso sklearn per verificare"
      ]
    },
    {
      "cell_type": "code",
      "execution_count": null,
      "metadata": {
        "colab": {
          "background_save": true
        },
        "id": "iMICVlrWZQgm"
      },
      "outputs": [],
      "source": [
        "from sklearn.linear_model import Perceptron\n",
        "perceptron = Perceptron()\n",
        "perceptron.fit(x_train, y_train)\n",
        "pperceptron = perceptron.predict(x_test)\n"
      ]
    },
    {
      "cell_type": "code",
      "execution_count": null,
      "metadata": {
        "colab": {
          "background_save": true
        },
        "id": "HdmYi3qXZYsN",
        "outputId": "5277750f-d6f1-459d-97bf-f9723bfc7024"
      },
      "outputs": [
        {
          "name": "stdout",
          "output_type": "stream",
          "text": [
            "55.56816748644218\n"
          ]
        }
      ],
      "source": [
        "print(accuracy(y_test, pperceptron)*100)"
      ]
    },
    {
      "cell_type": "markdown",
      "metadata": {
        "id": "PTAfW3efQHdX"
      },
      "source": [
        "# Classificazione con regressione logistica"
      ]
    },
    {
      "cell_type": "markdown",
      "metadata": {
        "id": "25xPB6m9cW7e"
      },
      "source": [
        "implemento un modello di regressione logistica che è un algoritmo di apprendimento automatico per la classificazione binaria. L'algoritmo utilizza una funzione sigmoide per calcolare la probabilità che un campione appartenga alla classe positiva, e  utilizza il metodo del gradient descent per minimizzare la funzione di perdita e per aggioranre i valore di peso (w) e bias (b).\n",
        "\n",
        "* __init__(): è il costruttore della classe:\n",
        "    1. learning_rate rappresenta il tasso di apprendimento per l'algoritmo di discesa del gradiente.\n",
        "    2. iterazioni rappresenta il numero di iterazioni da eseguire\n",
        "    3. w e b sono rispettivamente i pesi e il bias che verranno aggiornati durante l'addestramento.\n",
        "\n",
        "* sigmoid(): funzione sigmoide utilizzata per trasformare la somma pesata degli input in una probabilità tra 0 e 1:\n",
        "              \n",
        "$$\\frac{1}{1+e^{-z}}$$\n",
        "\n",
        "            \n",
        "\n",
        "*   BCE():calcola la funzione di costo della regressione logistica, ovvero la binary cross-entropy loss:\n",
        "$$-(y*log(h))+(1-y)*log(1-h))$$\n",
        "\n",
        "*   fit(): metodo principale che allena il modello usando i dati di x.\n",
        "inizializza i parametri w e b, poi ottimizza in modo iterativo pesi e bias attraverso gradient descent, calcola le derivate e aggiorna w e b\n",
        "* pprob() calcola le probabilità di appartenenza alla classe positiva utilizzando le equazioni lineare passate alla funzione  sigmoidea\n",
        "* predict() esegue la previsione sui dati di input\n",
        "\n",
        "\n",
        "\n"
      ]
    },
    {
      "cell_type": "code",
      "execution_count": null,
      "metadata": {
        "colab": {
          "background_save": true
        },
        "id": "bCCzIWY81nt0"
      },
      "outputs": [],
      "source": [
        "class myLogisticRegression:\n",
        "\n",
        "    def __init__(self, learning_rate=0.01, iterazioni=1000):\n",
        "        self.learning_rate = learning_rate\n",
        "        self.iterazioni=iterazioni\n",
        "        self.w=None\n",
        "        self.b=None\n",
        "\n",
        "    def sigmoid(self, x):\n",
        "        return 1 / (1 + np.exp(-x))\n",
        "\n",
        "    def BCE(self, y, h):\n",
        "        t= 0\n",
        "        for yy, hh in zip(y, h):\n",
        "            t += (yy * np.log(hh)) + (1 - yy) *np.log(1-hh)\n",
        "        return - t / len(y)\n",
        "\n",
        "    def fit(self, x, y):\n",
        "\n",
        "        self.w = np.zeros(x.shape[1])\n",
        "        self.b = 0\n",
        "\n",
        "        for i in range(self.iterazioni):\n",
        "            lp = np.dot(x, self.w) + self.b\n",
        "            h = self.sigmoid(lp)\n",
        "\n",
        "\n",
        "            pw = (1 / x.shape[0]) * (np.dot(x.T, (h - y)))\n",
        "            pd = (1 / x.shape[0]) * (np.sum(h - y))\n",
        "\n",
        "\n",
        "            self.w -= self.learning_rate * pw\n",
        "            self.b -= self.learning_rate * pd\n",
        "\n",
        "    def pprob(self, x):\n",
        "        pred=np.dot(x, self.w) + self.b\n",
        "        return self.sigmoid(pred)\n",
        "\n",
        "    def predict(self, x, threshold=0.5):\n",
        "        probab=self.pprob(x)\n",
        "        return [1 if i > threshold else 0 for i in probab]"
      ]
    },
    {
      "cell_type": "markdown",
      "metadata": {
        "id": "vXbbASAbcXyT"
      },
      "source": [
        "ho normalizzato i dati per evitare problemi con il calcolo del sigmoid"
      ]
    },
    {
      "cell_type": "code",
      "execution_count": null,
      "metadata": {
        "colab": {
          "background_save": true
        },
        "id": "Y-7hG6UIlVxA"
      },
      "outputs": [],
      "source": [
        "df['higth'] = np.where(df['shares']>=1400, True, False)\n",
        "df.higth\n",
        "\n",
        "x = df.iloc[:, :-2].values\n",
        "y = df.iloc[:, -1].values\n",
        "\n",
        "import numpy as np\n",
        "\n",
        "mean = np.mean(x, axis=0)\n",
        "std = np.std(x, axis=0)\n",
        "\n",
        "x1 = (x - mean) / std\n",
        "\n",
        "\n",
        "\n",
        "\n",
        "from sklearn.model_selection import train_test_split\n",
        "\n",
        "x_train, x_test, y_train, y_test = train_test_split(\n",
        "    x1, y, test_size=0.2, random_state=1234\n",
        ")"
      ]
    },
    {
      "cell_type": "code",
      "execution_count": null,
      "metadata": {
        "colab": {
          "background_save": true
        },
        "id": "xfs9HDLMcYPN"
      },
      "outputs": [],
      "source": [
        "model = myLogisticRegression()\n",
        "model.fit(x_train, y_train)\n",
        "predsss = model.predict(x_test)"
      ]
    },
    {
      "cell_type": "markdown",
      "metadata": {
        "id": "7AKUYKyG8BWx"
      },
      "source": [
        "calcolo l'accuratezza"
      ]
    },
    {
      "cell_type": "code",
      "execution_count": null,
      "metadata": {
        "colab": {
          "background_save": true
        },
        "id": "d4s9w6T9lsHd",
        "outputId": "adaa59dc-bc13-4df7-96f6-443d03a46db7"
      },
      "outputs": [
        {
          "name": "stdout",
          "output_type": "stream",
          "text": [
            "64.77487703367385\n"
          ]
        }
      ],
      "source": [
        "print(accuracy(y_test, predsss)*100)\n"
      ]
    },
    {
      "cell_type": "markdown",
      "metadata": {
        "id": "Stfo6Sf2Zqi_"
      },
      "source": [
        "faccio un confronto con sklearn"
      ]
    },
    {
      "cell_type": "code",
      "execution_count": null,
      "metadata": {
        "colab": {
          "background_save": true
        },
        "id": "Fu6WsQm31iO9",
        "outputId": "26215ba6-e2d6-43ee-c454-617c13085562"
      },
      "outputs": [
        {
          "name": "stdout",
          "output_type": "stream",
          "text": [
            "65.30457813091184\n"
          ]
        }
      ],
      "source": [
        "from sklearn.linear_model import LogisticRegression\n",
        "\n",
        "lr_model = LogisticRegression()\n",
        "lr_model.fit(x_train, y_train)\n",
        "lr_preds = lr_model.predict(x_test)\n",
        "\n",
        "print(accuracy(y_test, lr_preds)*100)\n"
      ]
    },
    {
      "cell_type": "markdown",
      "metadata": {
        "id": "elD3uZ2oclHj"
      },
      "source": [
        "# Classificazione con algoritmo di k-Nearest Neighbors"
      ]
    },
    {
      "cell_type": "markdown",
      "metadata": {
        "id": "ixLGnmLwtRz9"
      },
      "source": [
        "K-Nearest Neighbors (KNN) non richiede apprendimento, ma calcola semplicemente la distanza, in questo caso usando la distanza euclidea. Si basa sul principio che gli oggetti con caratteristiche simili tendono ad essere vicini l'uno all'altro nello spazio delle caratteristiche. Per assegnare un determinato output vedo l'etichetta più comune tra i k vicini e assegno quella all'output dei miei dati di test.\n",
        "Anche in questo caso ho normalizzato i dati x.\n",
        "\n",
        "\n",
        "* __init__(k): memorizza il nuemro di vicini (k), ho impostato come valore predefinito k=5.\n",
        "* disteuclidea(): è la funzione che calcola la distanza euclidea tra i punti p e q:\n",
        "\n",
        "$$ \\sqrt{\\sum\\limits_{i=1}^{n}{\\Big(p_i -q_i\\Big)^2}} $$\n",
        "\n",
        "* fit(): prende in input dei dati x e dei target y e li memorizza in xt e yt\n",
        "* predict(): per ogni dato in x calcola la distanza euclidea tra tale punto e tutti i punti in xt. Poi seleziona i k punti (dei xt) con la distanza euclidea minore e usa i loro target (contenuti in yt) per determinare il valore di output del valore del dato di x in esame.\n",
        "Usando np.bincount conta il numero di occorrenze e restituisce il valore più comune.\n",
        "Tutte le predizioni vengono restituite come un array\n",
        "\n"
      ]
    },
    {
      "cell_type": "code",
      "execution_count": null,
      "metadata": {
        "colab": {
          "background_save": true
        },
        "id": "D7ItSCGZkg55"
      },
      "outputs": [],
      "source": [
        "class KNN:\n",
        "    def __init__(self, k=5):\n",
        "        self.k = k\n",
        "\n",
        "    def disteuclidea(self, p, q):\n",
        "        return np.sqrt(np.sum((p - q) ** 2))\n",
        "\n",
        "    def fit(self, x, y):\n",
        "\n",
        "        self.xt = x\n",
        "        self.yt = y\n",
        "\n",
        "    def predict(self, x):\n",
        "        predictions = []\n",
        "        for i in x:\n",
        "            d= [self.disteuclidea(i, q) for q in self.xt]\n",
        "            indicivicini = np.argsort(d)[:self.k]\n",
        "            valorivicini = self.yt[indicivicini]\n",
        "            mcomune= np.bincount(valorivicini).argmax()\n",
        "            predictions.append(mcomune)\n",
        "\n",
        "        return np.array(predictions)"
      ]
    },
    {
      "cell_type": "code",
      "execution_count": null,
      "metadata": {
        "colab": {
          "background_save": true
        },
        "id": "WPg7boWzqCED"
      },
      "outputs": [],
      "source": [
        "df['higth'] = np.where(df['shares']>=1400, True, False)\n",
        "df.higth\n",
        "\n",
        "x = df.iloc[:, :-2].values\n",
        "y = df.iloc[:, -1].values\n",
        "\n",
        "import numpy as np\n",
        "\n",
        "mean = np.mean(x, axis=0)\n",
        "std = np.std(x, axis=0)\n",
        "\n",
        "x1 = (x - mean) / std\n",
        "\n",
        "\n",
        "\n",
        "\n",
        "from sklearn.model_selection import train_test_split\n",
        "\n",
        "x_train, x_test, y_train, y_test = train_test_split(\n",
        "    x1, y, test_size=0.2, random_state=1234\n",
        ")"
      ]
    },
    {
      "cell_type": "code",
      "execution_count": null,
      "metadata": {
        "colab": {
          "background_save": true
        },
        "id": "ipn7CncCp7Gk"
      },
      "outputs": [],
      "source": [
        "model = KNN()\n",
        "model.fit(x_train, y_train)\n",
        "preds = model.predict(x_test)"
      ]
    },
    {
      "cell_type": "markdown",
      "metadata": {
        "id": "Dnbq1U8mz25O"
      },
      "source": [
        "vedo l'accuratezza del mio risultato con k=5. Sarebbe possibile provarla con altri valori di k (preferibbilmente dispari) in modo da trovare il valore di k che mi restituisce un accuracy migliore. Nel mio caso uso k=5 che comunque mi restituisce un valore buono"
      ]
    },
    {
      "cell_type": "code",
      "execution_count": null,
      "metadata": {
        "colab": {
          "background_save": true
        },
        "id": "EQxAIMIQqN4p",
        "outputId": "b7884dd1-fc9c-4b8e-e828-0ce040d70850"
      },
      "outputs": [
        {
          "name": "stdout",
          "output_type": "stream",
          "text": [
            "61.268760247193846\n"
          ]
        }
      ],
      "source": [
        "print(accuracy(y_test, preds)*100)"
      ]
    },
    {
      "cell_type": "markdown",
      "metadata": {
        "id": "sra-zrQG1d26"
      },
      "source": [
        "uso sklearn per verificare se il mio codice funziona. In questo caso faccio usare diversi valori di k per vedere come possono cambiare i risultati. Con k=5 i risultati sono simili"
      ]
    },
    {
      "cell_type": "code",
      "execution_count": null,
      "metadata": {
        "colab": {
          "background_save": true
        },
        "id": "tDDIoH-s0Or5",
        "outputId": "cc972d92-fca9-49e1-c1b6-2282b6c718c3"
      },
      "outputs": [
        {
          "name": "stdout",
          "output_type": "stream",
          "text": [
            "accuracy con k= 1 57.44734518854837\n",
            "accuracy con k= 3 59.64182116282003\n",
            "accuracy con k= 5 61.268760247193846\n",
            "accuracy con k= 7 61.609282381132545\n",
            "accuracy con k= 9 61.55883465758608\n",
            "accuracy con k= 11 62.34077437255644\n",
            "accuracy con k= 13 62.47950561230925\n",
            "accuracy con k= 15 63.32450498171271\n"
          ]
        }
      ],
      "source": [
        "from sklearn.neighbors import KNeighborsClassifier\n",
        "from sklearn.metrics import accuracy_score\n",
        "for k in range(1, 16, 2):\n",
        "    knn_model = KNeighborsClassifier(n_neighbors=k)\n",
        "    knn_model.fit(x_train, y_train)\n",
        "    knn_preds = knn_model.predict(x_test)\n",
        "    print(\"accuracy con k=\", k,accuracy(y_test, knn_preds)*100)"
      ]
    },
    {
      "cell_type": "markdown",
      "metadata": {
        "id": "sDlj_YMQ2Ine"
      },
      "source": [
        "# Regressione con algoritmo di k-Nearest Neighbors"
      ]
    },
    {
      "cell_type": "markdown",
      "metadata": {
        "id": "Wg1LwP6W2Pi-"
      },
      "source": [
        "identico al precedente solo che invece che considerare il valore più presente dei vicini, faccio una media dei valori vicini"
      ]
    },
    {
      "cell_type": "code",
      "execution_count": null,
      "metadata": {
        "colab": {
          "background_save": true
        },
        "id": "mfJHbNj92PEr"
      },
      "outputs": [],
      "source": [
        "class KNNR:\n",
        "    def __init__(self, k=5):\n",
        "        self.k = k\n",
        "\n",
        "    def disteuclidea(self, p, q):\n",
        "        return np.sqrt(np.sum((p - q) ** 2))\n",
        "\n",
        "    def fit(self, x, y):\n",
        "\n",
        "        self.xt = x\n",
        "        self.yt = y\n",
        "\n",
        "    def predict(self, x):\n",
        "        predictions = []\n",
        "        for i in x:\n",
        "            d= [self.disteuclidea(i, q) for q in self.xt]\n",
        "            indicivicini = np.argsort(d)[:self.k]\n",
        "            valorivicini = self.yt[indicivicini]\n",
        "            predictions.append(np.mean(valorivicini))\n",
        "\n",
        "        return np.array(predictions)"
      ]
    },
    {
      "cell_type": "code",
      "execution_count": null,
      "metadata": {
        "colab": {
          "background_save": true
        },
        "id": "BmemsbUPVjbG"
      },
      "outputs": [],
      "source": [
        "x = df.iloc[:, :-2].values\n",
        "y = df.iloc[:, -2].values\n",
        "\n",
        "import numpy as np\n",
        "\n",
        "mean = np.mean(x, axis=0)\n",
        "std = np.std(x, axis=0)\n",
        "\n",
        "x1 = (x - mean) / std\n",
        "\n",
        "\n",
        "\n",
        "\n",
        "from sklearn.model_selection import train_test_split\n",
        "\n",
        "x_train, x_test, y_train, y_test = train_test_split(\n",
        "    x1, y, test_size=0.2, random_state=1234\n",
        ")"
      ]
    },
    {
      "cell_type": "markdown",
      "metadata": {
        "id": "wYAw_PdYeYOK"
      },
      "source": [
        "Vado a testare la mia funzione KNNR e la valuto calcolando rmse. Anche in questo caso io uso K=5"
      ]
    },
    {
      "cell_type": "code",
      "execution_count": null,
      "metadata": {
        "colab": {
          "background_save": true
        },
        "id": "gWqOw9H-V7pM"
      },
      "outputs": [],
      "source": [
        "modelr = KNNR()\n",
        "modelr.fit(x_train, y_train)\n",
        "predsr = modelr.predict(x_test)"
      ]
    },
    {
      "cell_type": "code",
      "execution_count": null,
      "metadata": {
        "colab": {
          "background_save": true
        },
        "id": "X97Id79jWthP",
        "outputId": "489e9e34-3721-46c5-bb43-538ee41e78df"
      },
      "outputs": [
        {
          "name": "stdout",
          "output_type": "stream",
          "text": [
            "8863.510513824622\n"
          ]
        }
      ],
      "source": [
        "print(rmse(y_test,predsr))"
      ]
    },
    {
      "cell_type": "markdown",
      "metadata": {
        "id": "HLcA7j0gejxn"
      },
      "source": [
        "uso la funzione sklearn per calcolare k-Nearest Neighbors provando con diversi valori di k e valutandoli calcolando il rmse"
      ]
    },
    {
      "cell_type": "code",
      "execution_count": null,
      "metadata": {
        "colab": {
          "background_save": true
        },
        "id": "HbYJ7_Z7W7qK",
        "outputId": "c1b2da94-6add-44ce-8139-2015281b96cc"
      },
      "outputs": [
        {
          "name": "stdout",
          "output_type": "stream",
          "text": [
            "rmse con k= 1 14204.880563442526\n",
            "rmse con k= 3 9627.502493220327\n",
            "rmse con k= 5 8863.510513824622\n",
            "rmse con k= 7 8638.310439798033\n",
            "rmse con k= 9 8482.943213405948\n",
            "rmse con k= 11 8302.237780878917\n",
            "rmse con k= 13 8206.197354323005\n",
            "rmse con k= 15 8098.8119796431465\n"
          ]
        }
      ],
      "source": [
        "from sklearn.neighbors import KNeighborsRegressor\n",
        "\n",
        "for k in range(1, 16, 2):\n",
        "    knnr_model = KNeighborsRegressor(n_neighbors=k)\n",
        "    knnr_model.fit(x_train, y_train)\n",
        "    knnr_preds = knnr_model.predict(x_test)\n",
        "    print(\"rmse con k=\", k,rmse(y_test, knnr_preds))\n"
      ]
    },
    {
      "cell_type": "markdown",
      "metadata": {
        "id": "--IfXnLpcnql"
      },
      "source": [
        "#Regressione con Reti Neurali"
      ]
    },
    {
      "cell_type": "markdown",
      "metadata": {
        "id": "r2hz08Madsjg"
      },
      "source": [
        "Realizzo una rete neurale per la regressioe a tre strati: un input layer, un hidden layer e un output layer in cui posso variare il numero di elementi nel hiddenn layer.\n",
        "* __init__(): è il costruttore che prende in input i_s (input size), hs (hidden size) e os (output size), che rappresentano rispettivamente il numero di neuroni nell'input layer, nel hidden layer e nell'output layer. Inizializzo casualmente i pesi e il bias tra lo strato di input e lo strato nascosto wh1 e bh1 e i   pesi e il bias tra lo strato nascosto e lo strato di output wo2 e bo2.\n",
        "* relu()  implementa la funzione di attivazione ReLU:\n",
        "$$max(0,x)$$\n",
        "\n",
        "* relu_deriv() la derivata della funzione relu\n",
        "* mse(): La funzione di costo utilizzata è il Mean Squared Error (MSE):\n",
        "\n",
        "\n",
        "$$\n",
        "\\frac{1}{n}\\sum\\limits_{i=1}^{n}{\\Big(d_i -f_i\\Big)^2}\n",
        "$$\n",
        "\n",
        "* mse_deriv() la derivata della funzione costo rispetto all'output del modello\n",
        "\n",
        "* forward():implementa il forward pass, è responsabile di eseguire il passaggio in avanti della rete neurale. Riceve in input i dati di input x e calcola l'output predetto y_hat.\n",
        "Inizia calcolando l'uscita del hidden layer (l1) e poi applico la funzione di attivazione relu e la salvo in a1 che sarà l'input del layer output.\n",
        "Calcolo in fine l'output (y_hat) in maniera  lineare (moltiplicando l'attivazione dell'hidden layer a1 con i pesi dell'output layer wo2, cui viene sommato il bias dell'output layer bo2)\n",
        "\n",
        "* backward(): implementa il backpropagation, calcola la retropropagazione dell'errore attraverso la rete neurale e aggiorna i pesi dei suoi parametri in base all'errore calcolato. Dopo la fase di  forward pass si procede con il backpropagation:\n",
        "    1. Per prima cosa si calcola la derivata parziale dell'errore rispetto all'output usando la funzione di costo (in questo caso MSE).\n",
        "Viene poi calcolato il gradiente dell'errore rispetto al secondo layer (quello che collega hidden a output). In fine si calcolano le derivate parziali per wo2 e bo2\n",
        "    2. Viene calcolato il gradiente dell'errore rispetto all'hidden layer usando la derivata della funzione di attivazione ReLu (relu_deriv()) e salvato in l1_deriv. In fine si calcolano le derivate parziali per wh1 e bh1.\n",
        "\n",
        "    3. alla fine vengono aggioranti i pesi e il bias usando il gradiant descent\n",
        "  \n",
        "* fit(): viene addestrata la rete neurale attraverso un loop di epochs epoche. Ad ogni loop eseguo forward propagation e poi backward propagation dove si aggiornano i pesi e il bias.\n",
        "Ho messo una stampa ogni 500 epoche per vedere come scnedeva la loss.\n",
        "\n",
        "* predict(): prendice il risultato dei dati di input x.\n",
        "\n",
        "Ho usato y = y.reshape(-1, 1) perchè spesso avevo problemi di dimensioni.\n",
        "\n",
        "\n"
      ]
    },
    {
      "cell_type": "code",
      "execution_count": null,
      "metadata": {
        "colab": {
          "background_save": true
        },
        "id": "xUaj7uAefKrw"
      },
      "outputs": [],
      "source": [
        "class NNR:\n",
        "    def __init__(self, i_s, hs, os):\n",
        "        self.wh1 = np.random.randn(i_s, hs) - 0.5\n",
        "        self.bh1 = np.zeros((1, hs)) - 0.5\n",
        "        self.wo2 = np.random.randn(hs, os) - 0.5\n",
        "        self.bo2 = np.zeros((1, os)) - 0.5\n",
        "\n",
        "    def relu(self, x):\n",
        "        return np.maximum(0, x)\n",
        "\n",
        "    def relu_deriv(self, a):\n",
        "        return np.where(a > 0, 1, 0)\n",
        "\n",
        "    def forward(self, x):\n",
        "        self.l1 = np.dot(x, self.wh1) + self.bh1\n",
        "        self.a1 = self.relu(self.l1)\n",
        "        self.l2 = np.dot(self.a1, self.wo2) + self.bo2\n",
        "        self.y_hat = self.l2\n",
        "\n",
        "    def mse(self, y, y_hat):\n",
        "        return np.mean(np.square(y - y_hat))\n",
        "\n",
        "    def mse_deriv(self, y, y_hat):\n",
        "        return (y_hat - y)\n",
        "\n",
        "    def backward(self, x, y, lr):\n",
        "        y = y.reshape(-1, 1)\n",
        "\n",
        "        mse_deriv = self.mse_deriv(y, self.y_hat)\n",
        "        l2_deriv = mse_deriv\n",
        "        wo2_deriv = np.dot(self.a1.T, l2_deriv)\n",
        "        bo2_deriv = np.sum(l2_deriv, axis=0, keepdims=True)\n",
        "\n",
        "        a1_deriv = np.dot(l2_deriv, self.wo2.T)\n",
        "        l1_deriv = a1_deriv * self.relu_deriv(self.l1)\n",
        "        wh1_deriv = np.dot(x.T, l1_deriv)\n",
        "        bh1_deriv = np.sum(l1_deriv, axis=0, keepdims=True)\n",
        "\n",
        "\n",
        "        self.wh1 -= lr * wh1_deriv\n",
        "        self.bh1 -= lr * bh1_deriv\n",
        "        self.wo2 -= lr * wo2_deriv\n",
        "        self.bo2 -= lr * bo2_deriv\n",
        "\n",
        "    def train(self, x, y, epochs, lr):\n",
        "        for i in range(epochs):\n",
        "            y = y.reshape(-1, 1)\n",
        "            self.forward(x)\n",
        "            loss = self.mse(y, self.y_hat)\n",
        "            self.backward(x, y, lr)\n",
        "            if i % 500 == 0:\n",
        "                print(f\"Epoch {i}, Loss: {loss:.4f}\")\n",
        "\n",
        "    def predict(self, x):\n",
        "        self.forward(x)\n",
        "        return self.y_hat"
      ]
    },
    {
      "cell_type": "markdown",
      "metadata": {
        "id": "8S7KxtPOqzJx"
      },
      "source": [
        "\n",
        "definisco i dati **solo in questo caso ho deciso di normalizzare anche le y invce che solo le x. questo perchè con dati y cosi grandi avevo numerosi problemi tra cui quelli di overflow**\n",
        "\n",
        "\n",
        "**N.B il problema è stato testato anche con y non normalizzate, funziona comunque ma con risultati spesso non ottimali**"
      ]
    },
    {
      "cell_type": "code",
      "execution_count": null,
      "metadata": {
        "colab": {
          "background_save": true
        },
        "id": "bqvDqXg8qIlK"
      },
      "outputs": [],
      "source": [
        "df['higth'] = np.where(df['shares']>=1400, True, False)\n",
        "df.higth\n",
        "\n",
        "x = df.iloc[: , :-2].values\n",
        "y = df.iloc[: , -2].values\n",
        "\n",
        "import numpy as np\n",
        "\n",
        "mean = np.mean(x, axis=0)\n",
        "std = np.std(x, axis=0)+ 1e-8\n",
        "\n",
        "x1 = (x - mean) / std\n",
        "\n",
        "\n",
        "meany = np.mean(y, axis=0)\n",
        "stdy = np.std(y, axis=0)+ 1e-8\n",
        "\n",
        "y1 = (y - meany) / stdy\n",
        "\n",
        "\n",
        "\n",
        "\n",
        "from sklearn.model_selection import train_test_split\n",
        "\n",
        "x_train, x_test, y_train, y_test = train_test_split(\n",
        "    x1, y1, test_size=0.2, random_state=1234\n",
        ")\n",
        "\n",
        "\n"
      ]
    },
    {
      "cell_type": "markdown",
      "metadata": {
        "id": "n1mJQjrkq37A"
      },
      "source": [
        "alleno la mia funzione e faccio la predizione"
      ]
    },
    {
      "cell_type": "code",
      "execution_count": null,
      "metadata": {
        "colab": {
          "background_save": true
        },
        "id": "tsu1eWUGqOLN",
        "outputId": "e308e4ec-6196-4159-bcc2-3e7cc450465e"
      },
      "outputs": [
        {
          "name": "stdout",
          "output_type": "stream",
          "text": [
            "Epoch 0, Loss: 360.3203\n",
            "Epoch 500, Loss: 1.1424\n",
            "Epoch 1000, Loss: 1.1370\n",
            "Epoch 1500, Loss: 1.1354\n",
            "Epoch 2000, Loss: 1.1350\n",
            "Epoch 2500, Loss: 1.1348\n",
            "Epoch 3000, Loss: 1.1348\n",
            "Epoch 3500, Loss: 1.1348\n",
            "Epoch 4000, Loss: 1.1347\n",
            "Epoch 4500, Loss: 1.1347\n"
          ]
        }
      ],
      "source": [
        "nett = NNR(x_train.shape[1], 6, 1)\n",
        "nett.train(x_train, y_train, lr=0.0000001, epochs=5000)\n",
        "predizioner = nett.predict(x_test)"
      ]
    },
    {
      "cell_type": "markdown",
      "metadata": {
        "id": "luHEcaSXrL4v"
      },
      "source": [
        "rmse sulla mia predizione"
      ]
    },
    {
      "cell_type": "code",
      "execution_count": null,
      "metadata": {
        "colab": {
          "background_save": true
        },
        "id": "NHle1ErPAAVX",
        "outputId": "e401533a-e023-4353-be17-638df39462b8"
      },
      "outputs": [
        {
          "name": "stdout",
          "output_type": "stream",
          "text": [
            "0.6689832975219531\n"
          ]
        }
      ],
      "source": [
        "print(rmse(y_test,predizioner))"
      ]
    },
    {
      "cell_type": "markdown",
      "metadata": {
        "id": "itVFxb39rNEs"
      },
      "source": [
        "faccio un paragone usando sklearn"
      ]
    },
    {
      "cell_type": "code",
      "execution_count": null,
      "metadata": {
        "colab": {
          "background_save": true
        },
        "id": "Yf5hNCDIG9rp",
        "outputId": "7a237afe-3764-4fca-b0ef-152bf16dbc87"
      },
      "outputs": [
        {
          "name": "stdout",
          "output_type": "stream",
          "text": [
            "0.6619178919912933\n"
          ]
        }
      ],
      "source": [
        "from sklearn.neural_network import MLPRegressor\n",
        "from sklearn.datasets import make_regression\n",
        "\n",
        "\n",
        "modelr = MLPRegressor(4, activation='relu', max_iter=5000)\n",
        "modelr.fit(x_train, y_train)\n",
        "y_predrr = modelr.predict(x_test)\n",
        "print(rmse(y_test,y_predrr))\n",
        "\n"
      ]
    },
    {
      "cell_type": "markdown",
      "metadata": {
        "id": "O1OaXxSmcrZZ"
      },
      "source": [
        "# Classificazione con Reti Neurali"
      ]
    },
    {
      "cell_type": "markdown",
      "metadata": {
        "id": "xgp-RMLZrPfS"
      },
      "source": [
        "Molto simile a quella realizzata precedentemente per la regressione, è un codice per la classificazione binaria, dove l'output può assumere solo due valori: 0 o 1.\n",
        "La rete neurale ha un singolo strato nascosto e utilizza la funzione di attivazione ReLU per il primo strato e la funzione di attivazione sigmoide per l'output.\n",
        "\n",
        "* __init__(): identico al precendete dove inizializzo randomicamnete wh1, wo2, bh1 e bo2.\n",
        "\n",
        "* __relu()__ e relu_derivative(): come nel caso precedente\n",
        "\n",
        "* sigmoid(): implementano la funzione di attivazione sigmoide:\n",
        "$$\\frac{1}{1+e^{-z}}$$\n",
        "\n",
        "* sigmoid_derivative(): calcola la derivata della sigmoide:\n",
        "$$ sigmoid(x)(1 - sigmoid(x)) $$\n",
        "\n",
        "* forward() come prima implementa il Forward Pass calcolando l'output y_h.\n",
        "Per prima cosa calcolo l1 e poi vine passto alla funzione relu che applica quindi la funzione di attivazione ReLu e restituisce a1.\n",
        "a1 sarebbe l'input per la parte successiva per il calcolo di l2. l2 viene poi passato alla funzione di attivazione sigmoide e restituisce y_h\n",
        "\n",
        "* backward():  implementa il passaggio all'indietro della rete neurale come nella NNR.\n",
        "\n",
        "    1. Viene calcolato l'errore dell'ultimo strato, ovvero la differenza tra l'output predetto y_hat e l'etichetta y, moltiplicata per la derivata della funzione di attivazione sigmoid_derivative() applicata all'ultimo strato self.l2. Viene poi calcolato il gradiente per wo2 e bo2.\n",
        "\n",
        "    2. Viene calcolato l'errore del livello nascosto, utilizzando il prodotto tra l'errore dell'ultimo strato errout e la matrice dei pesi dell'ultimo strato self.wo2 trasposta, moltiplicato per la derivata della funzione di attivazione relu_derivative() applicata al livello nascosto self.l1. Viene poi calcolato il gradiente per wh1 e bo1\n",
        "\n",
        "    3. Vengono aggiornati i pesi e i bias\n",
        "\n",
        "\n",
        "* fit(): esegue il processo di addestramento della rete neurale per il numero specificato di epoche, stampando l'errore di addestramento ogni 100 epoche.\n",
        "\n",
        "* predict():  prende in input un insieme di dati di test e restituisce l'output. L'output viene arrotondato alla classe più probabile (0 o 1) utilizzando la funzione np.round().\n",
        "\n",
        "\n",
        "\n"
      ]
    },
    {
      "cell_type": "code",
      "execution_count": null,
      "metadata": {
        "colab": {
          "background_save": true
        },
        "id": "Ce5vrDssRkqy"
      },
      "outputs": [],
      "source": [
        "import numpy as np\n",
        "\n",
        "class NNC:\n",
        "    def __init__(self, i_s, hs, os):\n",
        "        self.wh1 = np.random.rand(i_s, hs) - 0.5\n",
        "        self.bh1 = np.random.rand(1, hs) - 0.5\n",
        "        self.wo2 = np.random.rand(hs, os) - 0.5\n",
        "        self.bo2 = np.random.rand(1, os) - 0.5\n",
        "\n",
        "\n",
        "    def relu(self, a):\n",
        "        return np.maximum(0, a)\n",
        "\n",
        "    def relu_derivative(self, a):\n",
        "        return np.where(a > 0, 1, 0)\n",
        "\n",
        "    def sigmoid(self, a):\n",
        "        return 1 / (1 + np.exp(-a)/10000)\n",
        "\n",
        "\n",
        "    def sigmoid_derivative(self, a):\n",
        "        return self.sigmoid(a) * (1 - self.sigmoid(a))\n",
        "\n",
        "\n",
        "    def forward(self, x):\n",
        "        self.l1 = np.dot(x, self.wh1) + self.bh1\n",
        "        self.a1 = self.relu(self.l1)\n",
        "        self.l2 = np.dot(self.a1, self.wo2) + self.bo2\n",
        "        y_h = self.sigmoid(self.l2)\n",
        "\n",
        "        return y_h\n",
        "\n",
        "    def backward(self, x, y, y_hat, lr):\n",
        "        y = y.reshape(-1, 1)\n",
        "        errout = (y_hat - y) * self.sigmoid_derivative(self.l2)\n",
        "        dw2 = np.dot(self.a1.T, errout)\n",
        "        db2 = np.sum(errout, axis=0, keepdims=True)\n",
        "\n",
        "        errhide = np.dot(errout, self.wo2.T) * self.relu_derivative(self.l1)\n",
        "        dw1 = np.dot(x.T, errhide)\n",
        "        db1 = np.sum(errhide, axis=0, keepdims=True)\n",
        "\n",
        "        self.wh1 -= lr * dw1\n",
        "        self.bh1 -= lr * db1\n",
        "        self.wo2 -= lr * dw2\n",
        "        self.bo2 -= lr * db2\n",
        "\n",
        "    def fit(self, x, y, lr=0.1, epochs=1000):\n",
        "        for i in range(epochs):\n",
        "            y_h = self.forward(x)\n",
        "\n",
        "            self.backward(x, y, y_h, lr)\n",
        "\n",
        "            y = y.reshape(-1, 1)\n",
        "\n",
        "            costo = np.mean(np.square(y_h - y))\n",
        "            if i % 500 == 0:\n",
        "                print(f\"Epoch {i} - Loss: {costo}\")\n",
        "\n",
        "\n",
        "    def predict(self, X):\n",
        "        y_h = self.forward(X)\n",
        "        a=np.round(y_h)\n",
        "        return a"
      ]
    },
    {
      "cell_type": "markdown",
      "metadata": {
        "id": "C9ge5aGjyy5q"
      },
      "source": [
        "preparo i dati"
      ]
    },
    {
      "cell_type": "code",
      "execution_count": null,
      "metadata": {
        "colab": {
          "background_save": true
        },
        "id": "zjicb_QgkiI3"
      },
      "outputs": [],
      "source": [
        "df['higth'] = np.where(df['shares']>=1400, True, False)\n",
        "df.higth\n",
        "\n",
        "x = df.iloc[:, :-2].values\n",
        "y = df.iloc[:, -1].values\n",
        "\n",
        "import numpy as np\n",
        "\n",
        "mean = np.mean(x, axis=0)\n",
        "std = np.std(x, axis=0)+ 1e-8\n",
        "\n",
        "x1 = (x - mean) / std\n",
        "\n",
        "\n",
        "from sklearn.model_selection import train_test_split\n",
        "\n",
        "x_train, x_test, y_train, y_test = train_test_split(\n",
        "    x1, y, test_size=0.2, random_state=42\n",
        ")\n",
        "\n"
      ]
    },
    {
      "cell_type": "markdown",
      "metadata": {
        "id": "3nTQmFSLy1Of"
      },
      "source": [
        "verifico il mio codice."
      ]
    },
    {
      "cell_type": "code",
      "execution_count": null,
      "metadata": {
        "colab": {
          "background_save": true
        },
        "id": "NgrF3dqHkNHk"
      },
      "outputs": [],
      "source": [
        "net = NNC(x_train.shape[1], 6, 2)"
      ]
    },
    {
      "cell_type": "code",
      "execution_count": null,
      "metadata": {
        "id": "Yg4lCBk9mOOG"
      },
      "outputs": [],
      "source": [
        "net.fit(x_train, y_train, lr=0.1, epochs=5000)\n",
        "predizione = net.predict(x_test)\n"
      ]
    },
    {
      "cell_type": "markdown",
      "metadata": {
        "id": "tXD3lLdGy6vB"
      },
      "source": [
        "verifico l'accuratezza"
      ]
    },
    {
      "cell_type": "code",
      "execution_count": null,
      "metadata": {
        "id": "TKC1dWVUqTQl"
      },
      "outputs": [],
      "source": [
        "predizione =np.max(predizione, axis=1)\n",
        "print(accuracy(y_test, predizione)*100)"
      ]
    },
    {
      "cell_type": "markdown",
      "metadata": {
        "id": "visA8n8CzCua"
      },
      "source": [
        "verifico anche con sklearn"
      ]
    },
    {
      "cell_type": "code",
      "execution_count": null,
      "metadata": {
        "id": "vWb95cAozFff"
      },
      "outputs": [],
      "source": [
        "from sklearn.neural_network import MLPClassifier\n",
        "\n",
        "clfc = MLPClassifier(6, max_iter=1000, random_state=42)\n",
        "\n",
        "clfc.fit(x_train, y_train)\n",
        "\n",
        "predicted_class = clfc.predict(x_test)\n",
        "\n",
        "print(accuracy(y_test, predicted_class)*100)"
      ]
    },
    {
      "cell_type": "markdown",
      "metadata": {
        "id": "CY96okkciTIQ"
      },
      "source": [
        "# Resoconto"
      ]
    },
    {
      "cell_type": "markdown",
      "metadata": {
        "id": "DRF6z-G5KW_K"
      },
      "source": [
        "Ora descrivo brevemente i modelli sviluppati, alcuni accorgimenti che ho adottato e i risultati ottenuti. **Ho però descritto nel dettaglio ogni codice con la logica dietro il codice e le varie funzioni usate nel dettaglio in ogni sezione prima di scrivere il codice**"
      ]
    },
    {
      "cell_type": "markdown",
      "metadata": {
        "id": "ADhWECBNiWWn"
      },
      "source": [
        "**Classificazione:** Per la classificazione sono stati usati vari metodi tra cui Decision Trees (sviluppato come una classificazione), Classificazione con regressione lineare, Classificazione con regressione logistica, Classificazione con algoritmo di k-Nearest Neighbors e Classificazione con Reti Neurali.\n",
        "Tutti i codici sono stati valutati tramite una funzione accuracy:\n",
        "\n",
        "$$\n",
        "\\frac{TP+TN}{TP+TN+FP+FN}\n",
        "$$\n",
        "\n",
        "e poi paragonati al codice preso dalla libreria sklearn. In questi casi (tranne negli alberi dove non avevo problemi di overflow e non avevo miglioramenti di accuracy) ho deciso di normalizzare i dati delle feature e solo dopo dividerli in test e train.\n",
        "In questo modo sono riuscito a migliorare la mia accuracy e evitare problemi di overflow specialmente nei casi in cui veniva usata la funzione sigmoide ed inoltre è un processo molto importante per garantire un'adeguata preparazione dei dati prima dell'addestramento del modello migliorando le sue performance e migliorando la generalizzazione.\n",
        "Per quanto riguarda i livelli di accuratezza sono tutti maggiori del 52%.\n",
        "Ho avuto risultati migliori e stabili (cambiando spesso i dati di test e train), con la classificazione con regressione logistica dove ho ottenuto un accuracy sul 63% e anche con k-Nearest Neighbors sempre superiore al 60% (testata con k=5) ma impiega molto più tempo ad arrivare al risultato rispetto agli altri metodi. Per utlimo ho provato a realizzare la classificazione tramite Reti Neurali usando una rete neurale a tre strati (uno solo hidden) con due funzioni di attivazione (uno tra il primo e secondo strato e uno tra il secondo e il terzo) rispettivamente la funzione ReLu e sigmoide.\n",
        "In questi casi l'accuracy supera sempre il 52% ma i risultati dipendono molto dai dati di test e train ma arriva spesso sopra il 60%, l'unico problema del codice è un errore: *RuntimeWarning: overflow encountered* nel calcolo della sigmoide che però non interferisce nel portare a termine il codice.\n",
        "Resoconto risultati accuracy (mio codice e sklearn)\n",
        "\n",
        "* Alberi 63%  58%                                  \n",
        "* Linear Classification 56%  56%\n",
        "* Con regressione logistica 66% 65%\n",
        "* K-NN  61% 61%\n",
        "* Reti neurali 52/65% 66%\n",
        "\n",
        "\n"
      ]
    },
    {
      "cell_type": "markdown",
      "metadata": {
        "id": "xAYRbKgeicaL"
      },
      "source": [
        "**Regressione:** nel caso della regressione ho implementato i seguenti modelli:\n",
        "Regressione lineare (senza regolarizzazione, regolarizzazione L1, L2, e elastic net)\n",
        "Regressione con algoritmo di k-Nearest Neighbors e Regressione con Reti Neurali.\n",
        "Sono stati tutti valutati tramite il calcolo del RMSE:\n",
        "\n",
        "$$\n",
        "\\sqrt{\\frac{1}{n}\\sum\\limits_{i=1}^{n}{\\Big(d_i -f_i\\Big)^2}}\n",
        "$$\n",
        "\n",
        "Anche nel  caso della regressione ho normalizzato le x ma nel caso delle reti neurlai per la regressione ho deciso dopo vari tentativi di normalizzare anche le y.\n",
        "Nel caso della regressione con le reti neurali ho che  la rmse esce abbastanza stabile con valori prossimi a 0.68 (il valore cosi basso è dovuto al fatto che anche i valori di y_train sono normalizzati), prima di normalizzare anche le y avevo provato ad usare due hidden layer poichè i risultati variavano molto in base ai dati di test ma non migliorava molto poichè dovevo inserire un learning rate molto basso per evitare overflow, ma normalizzando y ho risolto tutti i problemi.\n",
        "Per K-Nearest Neighbors ho ottenuto un valore di rmse di 8800 circa simile a quello ottenuto usando sklearn con k=5 ma anche qui i tempi sono un po' più lunghi rispetto agli altri modelli.\n",
        "Nel caso di Linear Regression ho scritto due codici uno senza regolarizzazione che ha ottenuto un rmse di circa 7700 (simile a quello di sklear). Per evitare overfitting (il modello non generalizza bene su nuovi dati non visti) si usa la regolarizzazione nel mio caso ho scritto un solo codice in cui poi è possibile decidere il tipo di regolarizzazione tra L1, L2 e elastic net i risultati di tali modelli restano comunque coerenti con quelli che ho ottenuto senza regolarizzazione.\n",
        "Resoconto risultati RMSE (mio codice e sklearn)\n",
        "* Linear Regression:\n",
        "    1. Senza Regolarizzazione 7664,2 - 7643\n",
        "    2. L1 7644,36 - 7644,8\n",
        "    3. L2 7644,37 - 7643,5\n",
        "    4. Elastic Net 7662 - 7644,8\n",
        "\n",
        "* K-NN 8863  - 8863\n",
        "* Reti neurali 0,67 - 0,66\n",
        "\n",
        "\n"
      ]
    }
  ],
  "metadata": {
    "colab": {
      "collapsed_sections": [
        "mu_rxzq0f2gV",
        "UreUUCYinWBT",
        "T0U_QCzFhcNJ",
        "nD-c_U5U1J7o",
        "CuRF1fApmLKN",
        "PTAfW3efQHdX",
        "elD3uZ2oclHj",
        "sDlj_YMQ2Ine",
        "--IfXnLpcnql",
        "O1OaXxSmcrZZ"
      ],
      "provenance": [],
      "toc_visible": true
    },
    "kernelspec": {
      "display_name": "Python 3",
      "name": "python3"
    },
    "language_info": {
      "name": "python"
    }
  },
  "nbformat": 4,
  "nbformat_minor": 0
}